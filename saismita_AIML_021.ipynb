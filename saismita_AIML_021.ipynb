{
 "cells": [
  {
   "cell_type": "code",
   "execution_count": 2,
   "id": "da49af6b",
   "metadata": {},
   "outputs": [
    {
     "name": "stdout",
     "output_type": "stream",
     "text": [
      "   Rating  Frequency\n",
      "0      10     319000\n",
      "1       9     285000\n",
      "2       8     285000\n",
      "3       7     133000\n",
      "4       6      43000\n",
      "5       5      17000\n",
      "6       4       6800\n",
      "7       3       3800\n",
      "8       2       2500\n",
      "9       1       6500\n"
     ]
    }
   ],
   "source": [
    "import pandas as pd\n",
    "op=pd.read_excel(r\"C:\\Users\\mohan\\Desktop\\TLK sheet(o).xlsx\")\n",
    "print(op)"
   ]
  },
  {
   "cell_type": "code",
   "execution_count": 4,
   "id": "fdcf26da",
   "metadata": {},
   "outputs": [
    {
     "name": "stdout",
     "output_type": "stream",
     "text": [
      "[319000, 285000, 285000, 133000, 43000, 17000, 6800, 3800, 2500, 6500]\n"
     ]
    }
   ],
   "source": [
    "fl=op[\"Frequency\"].tolist()\n",
    "print(fl)"
   ]
  },
  {
   "cell_type": "code",
   "execution_count": 5,
   "id": "62afd097",
   "metadata": {},
   "outputs": [
    {
     "name": "stdout",
     "output_type": "stream",
     "text": [
      "[10, 9, 8, 7, 6, 5, 4, 3, 2, 1]\n"
     ]
    }
   ],
   "source": [
    "xl=op[\"Rating\"].tolist()\n",
    "print(xl)"
   ]
  },
  {
   "cell_type": "code",
   "execution_count": 15,
   "id": "d5a342f3",
   "metadata": {},
   "outputs": [
    {
     "name": "stdout",
     "output_type": "stream",
     "text": [
      "[270000, 198000, 400000, 490000, 252000, 100000, 35200, 16200, 8400, 9000]\n"
     ]
    }
   ],
   "source": [
    "flxl=[i*j for i,j in zip(fl,xl)]\n",
    "print(flxl)"
   ]
  },
  {
   "cell_type": "code",
   "execution_count": 26,
   "id": "c7891c87",
   "metadata": {},
   "outputs": [
    {
     "name": "stdout",
     "output_type": "stream",
     "text": [
      "6.88390092879257\n"
     ]
    }
   ],
   "source": [
    "meanval_op=sum(flxl)/sum(fl)\n",
    "print(meanval_op)"
   ]
  },
  {
   "cell_type": "code",
   "execution_count": 8,
   "id": "396e21a3",
   "metadata": {},
   "outputs": [
    {
     "name": "stdout",
     "output_type": "stream",
     "text": [
      "[2500, 3800, 6500, 6800, 17000, 43000, 133000, 285000, 285000, 319000]\n"
     ]
    }
   ],
   "source": [
    "sortdata=sorted(fl)\n",
    "n=len(sortdata)\n",
    "print(sortdata)"
   ]
  },
  {
   "cell_type": "code",
   "execution_count": 28,
   "id": "023fa73e",
   "metadata": {},
   "outputs": [
    {
     "name": "stdout",
     "output_type": "stream",
     "text": [
      "34500.0\n"
     ]
    }
   ],
   "source": [
    "if n % 2==0:\n",
    "    mid1=n // 2\n",
    "    mid2=mid1 + 1\n",
    "    media_op=(sortdata[mid1+1]/2 + sortdata[mid2+1]/2)\n",
    "else:\n",
    "    mid=n // 2\n",
    "    media_op=sortdata[mid]\n",
    "print(media_op)"
   ]
  },
  {
   "cell_type": "code",
   "execution_count": 10,
   "id": "b32b20e3",
   "metadata": {},
   "outputs": [
    {
     "name": "stdout",
     "output_type": "stream",
     "text": [
      "   Rating  Frequency\n",
      "0      10      27000\n",
      "1       9      22000\n",
      "2       8      50000\n",
      "3       7      70000\n",
      "4       6      42000\n",
      "5       5      20000\n",
      "6       4       8800\n",
      "7       3       5400\n",
      "8       2       4200\n",
      "9       1       9000\n"
     ]
    }
   ],
   "source": [
    "import pandas as pd\n",
    "oq=pd.read_excel(r\"C:\\Users\\mohan\\Documents\\TLK review(r).xlsx\")\n",
    "print(oq)"
   ]
  },
  {
   "cell_type": "code",
   "execution_count": 17,
   "id": "87524d58",
   "metadata": {},
   "outputs": [
    {
     "name": "stdout",
     "output_type": "stream",
     "text": [
      "[27000, 22000, 50000, 70000, 42000, 20000, 8800, 5400, 4200, 9000]\n"
     ]
    }
   ],
   "source": [
    "fi=oq[\"Frequency\"].tolist()\n",
    "print(fi)"
   ]
  },
  {
   "cell_type": "code",
   "execution_count": 18,
   "id": "8f311a12",
   "metadata": {},
   "outputs": [
    {
     "name": "stdout",
     "output_type": "stream",
     "text": [
      "[10, 9, 8, 7, 6, 5, 4, 3, 2, 1]\n"
     ]
    }
   ],
   "source": [
    "xi=oq[\"Rating\"].tolist()\n",
    "print(xi)"
   ]
  },
  {
   "cell_type": "code",
   "execution_count": 19,
   "id": "e34bc6cd",
   "metadata": {},
   "outputs": [
    {
     "name": "stdout",
     "output_type": "stream",
     "text": [
      "[270000, 198000, 400000, 490000, 252000, 100000, 35200, 16200, 8400, 9000]\n"
     ]
    }
   ],
   "source": [
    "fixi=[i*j for i,j in zip(fi,xi)]\n",
    "print(fixi)"
   ]
  },
  {
   "cell_type": "code",
   "execution_count": 29,
   "id": "3f9006d7",
   "metadata": {},
   "outputs": [
    {
     "name": "stdout",
     "output_type": "stream",
     "text": [
      "6.88390092879257\n"
     ]
    }
   ],
   "source": [
    "meanval_oq=sum(fixi)/sum(fi)\n",
    "print(meanval_oq)"
   ]
  },
  {
   "cell_type": "code",
   "execution_count": 21,
   "id": "8c8a25c3",
   "metadata": {},
   "outputs": [
    {
     "name": "stdout",
     "output_type": "stream",
     "text": [
      "[4200, 5400, 8800, 9000, 20000, 22000, 27000, 42000, 50000, 70000]\n"
     ]
    }
   ],
   "source": [
    "sortdata=sorted(fi)\n",
    "n=len(sortdata)\n",
    "print(sortdata)"
   ]
  },
  {
   "cell_type": "code",
   "execution_count": 33,
   "id": "e6d4e178",
   "metadata": {},
   "outputs": [
    {
     "name": "stdout",
     "output_type": "stream",
     "text": [
      "34500.0\n"
     ]
    }
   ],
   "source": [
    "if n % 2==0:\n",
    "    mid3=n // 2\n",
    "    mid4=mid3 + 1\n",
    "    media_oq=(sortdata[mid3+1]/2 + sortdata[mid4+1]/2)\n",
    "else:\n",
    "    mid=n // 2\n",
    "    media_oq=sortdata[mid]\n",
    "print(media_oq)"
   ]
  },
  {
   "cell_type": "code",
   "execution_count": 34,
   "id": "92d92b8d",
   "metadata": {},
   "outputs": [
    {
     "name": "stdout",
     "output_type": "stream",
     "text": [
      "Movie op:\n",
      "Mean: 6.88390092879257\n",
      "Median: 34500.0\n",
      "\n",
      "Movie oq:\n",
      "Mean: 6.88390092879257\n",
      "Median: 34500.0\n",
      "Both movies have the same mean rating.\n",
      "Both movies have the same median rating.\n"
     ]
    }
   ],
   "source": [
    "print(\"Movie op:\")\n",
    "print(\"Mean:\", meanval_op)\n",
    "print(\"Median:\", media_op)\n",
    "\n",
    "print(\"\\nMovie oq:\")\n",
    "print(\"Mean:\", meanval_oq)\n",
    "print(\"Median:\", media_oq)\n",
    "\n",
    "# Compare mean and median ratings\n",
    "if meanval_op > meanval_oq:\n",
    "    print(\"Movie op has a higher mean rating.\")\n",
    "elif meanval_op < meanval_oq:\n",
    "    print(\"Movie oq has a higher mean rating.\")\n",
    "else:\n",
    "    print(\"Both movies have the same mean rating.\")\n",
    "\n",
    "if media_op > media_oq:\n",
    "    print(\"Movie op has a higher median rating.\")\n",
    "elif media_op < media_oq:\n",
    "    print(\"Movie oq has a higher median rating.\")\n",
    "else:\n",
    "    print(\"Both movies have the same median rating.\")\n",
    "\n"
   ]
  },
  {
   "cell_type": "code",
   "execution_count": null,
   "id": "de2231eb",
   "metadata": {},
   "outputs": [],
   "source": []
  }
 ],
 "metadata": {
  "kernelspec": {
   "display_name": "Python 3 (ipykernel)",
   "language": "python",
   "name": "python3"
  },
  "language_info": {
   "codemirror_mode": {
    "name": "ipython",
    "version": 3
   },
   "file_extension": ".py",
   "mimetype": "text/x-python",
   "name": "python",
   "nbconvert_exporter": "python",
   "pygments_lexer": "ipython3",
   "version": "3.9.13"
  }
 },
 "nbformat": 4,
 "nbformat_minor": 5
}
